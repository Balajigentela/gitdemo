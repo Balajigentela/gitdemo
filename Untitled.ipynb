{
 "cells": [
  {
   "cell_type": "code",
   "execution_count": null,
   "id": "f58aaf88",
   "metadata": {},
   "outputs": [],
   "source": [
    "def my_func(a,b):\n",
    "    if a %2 == 0 and b %2 == 0:\n",
    "        return min(a,b)\n",
    "    else:\n",
    "        return max(a,b)\n"
   ]
  },
  {
   "cell_type": "code",
   "execution_count": null,
   "id": "1cb58d8d",
   "metadata": {},
   "outputs": [],
   "source": [
    "my_func(2,6)"
   ]
  },
  {
   "cell_type": "code",
   "execution_count": null,
   "id": "e7e6188e",
   "metadata": {},
   "outputs": [],
   "source": [
    "my_func(7,9)"
   ]
  },
  {
   "cell_type": "code",
   "execution_count": null,
   "id": "e6644e0a",
   "metadata": {},
   "outputs": [],
   "source": [
    "def my_string(text):\n",
    "    words = text.lower().split()\n",
    "    print(words)\n",
    "    return words[0][0] == words[1][0]"
   ]
  },
  {
   "cell_type": "code",
   "execution_count": null,
   "id": "f2d60c5a",
   "metadata": {},
   "outputs": [],
   "source": [
    "my_string('mounika Mouni')"
   ]
  },
  {
   "cell_type": "code",
   "execution_count": null,
   "id": "079bf01e",
   "metadata": {},
   "outputs": [],
   "source": [
    "my_string('cat mouni')"
   ]
  },
  {
   "cell_type": "code",
   "execution_count": null,
   "id": "6784e951",
   "metadata": {},
   "outputs": [],
   "source": [
    "def my_num(a,b):\n",
    "    if a +b == 20 or a == 20 or b == 20:\n",
    "        return True\n",
    "    else:\n",
    "        return False"
   ]
  },
  {
   "cell_type": "code",
   "execution_count": null,
   "id": "b576f09d",
   "metadata": {},
   "outputs": [],
   "source": [
    "my_num(20,12)"
   ]
  },
  {
   "cell_type": "code",
   "execution_count": null,
   "id": "79594dab",
   "metadata": {},
   "outputs": [],
   "source": [
    "my_num(10,13)"
   ]
  },
  {
   "cell_type": "code",
   "execution_count": null,
   "id": "1ad9e144",
   "metadata": {},
   "outputs": [],
   "source": [
    "def my_text(name):\n",
    "    words = name.split()\n",
    "    result = words[::-1]\n",
    "  \n",
    "    return ' '.join(result)\n",
    "    "
   ]
  },
  {
   "cell_type": "code",
   "execution_count": null,
   "id": "590c5042",
   "metadata": {},
   "outputs": [],
   "source": [
    "my_text('i amm mounika')"
   ]
  },
  {
   "cell_type": "code",
   "execution_count": null,
   "id": "f9de8aaf",
   "metadata": {},
   "outputs": [],
   "source": [
    "def my_hs33(nums):\n",
    "    for i in range(0,len(nums)-1):\n",
    "        if nums[i] == 3 and  nums[i+1] == 3:\n",
    "             return True\n",
    "    return False"
   ]
  },
  {
   "cell_type": "code",
   "execution_count": null,
   "id": "7a979595",
   "metadata": {},
   "outputs": [],
   "source": [
    "my_hs33([1, 3, 3])"
   ]
  },
  {
   "cell_type": "code",
   "execution_count": null,
   "id": "e7e2cb7f",
   "metadata": {},
   "outputs": [],
   "source": [
    "def my_func(text):\n",
    "    result3 = ' '\n",
    "    for letter in text:\n",
    "        result = letter*3\n",
    "        result3 =  result + result3\n",
    "    return result3"
   ]
  },
  {
   "cell_type": "code",
   "execution_count": null,
   "id": "f08eff6d",
   "metadata": {},
   "outputs": [],
   "source": [
    "my_func('hello')"
   ]
  },
  {
   "cell_type": "code",
   "execution_count": 4,
   "id": "f8644013",
   "metadata": {},
   "outputs": [],
   "source": [
    "def my_func(a,b,c):\n",
    "    \n",
    "    if sum([a,b,c]) <= 21:\n",
    "        \n",
    "        return sum([a,b,c])\n",
    "    \n",
    "    elif 11 in ([a,b,c]) and sum([a,b,c]) <= 31 :\n",
    "        \n",
    "        return sum([a,b,c])-10\n",
    "    else:\n",
    "        return 'bust'"
   ]
  },
  {
   "cell_type": "code",
   "execution_count": 6,
   "id": "66d13f88",
   "metadata": {},
   "outputs": [
    {
     "data": {
      "text/plain": [
       "19"
      ]
     },
     "execution_count": 6,
     "metadata": {},
     "output_type": "execute_result"
    }
   ],
   "source": [
    "my_func(9,11,9)"
   ]
  },
  {
   "cell_type": "code",
   "execution_count": 12,
   "id": "683a6231",
   "metadata": {},
   "outputs": [],
   "source": [
    "def my_func(arr):\n",
    "    total = 0\n",
    "    add = True\n",
    "    \n",
    "    for  num in arr:\n",
    "    \n",
    "        while add:\n",
    "            if num != 6:\n",
    "                total += num\n",
    "                break\n",
    "            else:\n",
    "                 add = False\n",
    "        while not add:\n",
    "            if num != 9:\n",
    "                break\n",
    "            else:\n",
    "                add = True\n",
    "                break\n",
    "    return total\n",
    "              \n",
    "                    \n",
    "                    \n",
    "        "
   ]
  },
  {
   "cell_type": "code",
   "execution_count": 14,
   "id": "f9617e5f",
   "metadata": {},
   "outputs": [
    {
     "data": {
      "text/plain": [
       "12"
      ]
     },
     "execution_count": 14,
     "metadata": {},
     "output_type": "execute_result"
    }
   ],
   "source": [
    "my_func([1,2,3,4,6,5,9,2])"
   ]
  },
  {
   "cell_type": "code",
   "execution_count": null,
   "id": "213ea244",
   "metadata": {},
   "outputs": [],
   "source": [
    "import pywhatkit\n",
    "pywhatkit.whatmsg(+919110579007', \"hi Ashok, em chestuna, tinava iam sending this msg through python\",22,17)\n",
    "                  \n",
    "                  "
   ]
  }
 ],
 "metadata": {
  "kernelspec": {
   "display_name": "Python 3",
   "language": "python",
   "name": "python3"
  },
  "language_info": {
   "codemirror_mode": {
    "name": "ipython",
    "version": 3
   },
   "file_extension": ".py",
   "mimetype": "text/x-python",
   "name": "python",
   "nbconvert_exporter": "python",
   "pygments_lexer": "ipython3",
   "version": "3.8.8"
  }
 },
 "nbformat": 4,
 "nbformat_minor": 5
}
