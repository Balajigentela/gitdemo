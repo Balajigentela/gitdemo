{
 "cells": [
  {
   "cell_type": "code",
   "execution_count": null,
   "id": "246dbd9e",
   "metadata": {},
   "outputs": [],
   "source": [
    "print('welcome')\n"
   ]
  },
  {
   "cell_type": "code",
   "execution_count": 2,
   "id": "6cc1085b",
   "metadata": {},
   "outputs": [
    {
     "name": "stdout",
     "output_type": "stream",
     "text": [
      "In 10 seconds web.whatsapp.com will open and after 20 seconds message will be delivered\n"
     ]
    }
   ],
   "source": [
    "import pywhatkit\n",
    "\n",
    "pywhatkit.sendwhatmsg('+919110579007', \"hi Ashok, em chestuna, tinava iam sending this msg through python\",22,24)\n",
    "\n",
    "\n",
    "                      "
   ]
  },
  {
   "cell_type": "code",
   "execution_count": 3,
   "id": "855dfc84",
   "metadata": {},
   "outputs": [
    {
     "name": "stdout",
     "output_type": "stream",
     "text": [
      "A face book or facebook is a common or web directory found at some American universities consisting of individuals’ photographs and names. In particular, it denotes publications of this type distributed by university administrations at the start of the academic year, with the intention of helping students get to know each other.\n",
      "\n",
      "\n",
      "== History ==\n",
      "Colleges and universities in the United States have often published official or unofficial books listing their students, faculty, or staff, together with pictures and limited biographical data. By the early 2000s, some face books were being published online offering a number of new features, including password protection, more detailed information, more advanced indexing and searching, and the ability for people to upload and enter information and photographs.In early 2004, Mark Zuckerberg, a sophomore at Harvard University, created an unofficial online face book at the website \"thefacebook.com\", the forerunner of the Facebook service, out of frustration that the university's official online face book project was taking too long. The development of a campus-wide face book had previously been stalled by privacy concerns, many of which became prominent in November 2003 when Zuckerberg was accused of breaching security and violating copyrights and individual privacy. Zuckerberg had created a website, www.facemash.com, that used photos taken without authorization from Harvard House-based face books, using the photos in a system to rate the attractiveness of students.\n"
     ]
    }
   ],
   "source": [
    "import pywhatkit\n",
    "\n",
    "pywhatkit.info('facebook',15)\n"
   ]
  },
  {
   "cell_type": "code",
   "execution_count": 6,
   "id": "256f06be",
   "metadata": {},
   "outputs": [
    {
     "data": {
      "text/plain": [
       "'https://www.youtube.com/watch?v=2mDCVzruYzQ'"
      ]
     },
     "execution_count": 6,
     "metadata": {},
     "output_type": "execute_result"
    }
   ],
   "source": [
    "import pywhatkit\n",
    "\n",
    "pywhatkit.playonyt(\"butta bomma\")\n"
   ]
  },
  {
   "cell_type": "code",
   "execution_count": 10,
   "id": "103237cd",
   "metadata": {},
   "outputs": [
    {
     "data": {
      "text/plain": [
       "'https://www.youtube.com/watch?v=rfscVS0vtbw'"
      ]
     },
     "execution_count": 10,
     "metadata": {},
     "output_type": "execute_result"
    }
   ],
   "source": [
    "import pywhatkit\n",
    "\n",
    "pywhatkit.playonyt(\"python\", True)"
   ]
  },
  {
   "cell_type": "code",
   "execution_count": null,
   "id": "85396a8f",
   "metadata": {},
   "outputs": [],
   "source": []
  }
 ],
 "metadata": {
  "kernelspec": {
   "display_name": "Python 3",
   "language": "python",
   "name": "python3"
  },
  "language_info": {
   "codemirror_mode": {
    "name": "ipython",
    "version": 3
   },
   "file_extension": ".py",
   "mimetype": "text/x-python",
   "name": "python",
   "nbconvert_exporter": "python",
   "pygments_lexer": "ipython3",
   "version": "3.8.8"
  }
 },
 "nbformat": 4,
 "nbformat_minor": 5
}
