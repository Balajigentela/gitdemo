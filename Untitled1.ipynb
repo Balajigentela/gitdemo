{
 "cells": [
  {
   "cell_type": "code",
   "execution_count": null,
   "id": "f5ad6eaf",
   "metadata": {},
   "outputs": [],
   "source": [
    "1+5"
   ]
  },
  {
   "cell_type": "code",
   "execution_count": null,
   "id": "bd49cdab",
   "metadata": {},
   "outputs": [],
   "source": [
    "my_list = [1,2,3,4,5,6]\n",
    "for num in my_list:\n",
    "    if(num%2 !=0):\n",
    "        print(num)\n",
    "    else:\n",
    "        print(f'the odd number:{num}')"
   ]
  },
  {
   "cell_type": "code",
   "execution_count": null,
   "id": "67fd0c11",
   "metadata": {},
   "outputs": [],
   "source": [
    "x = 0\n",
    "while x < 5:\n",
    "    print(f'the valueof x is: {x}')\n",
    "    x = x + 1\n",
    "    "
   ]
  },
  {
   "cell_type": "code",
   "execution_count": null,
   "id": "b387e2e0",
   "metadata": {},
   "outputs": [],
   "source": [
    "x = 0\n",
    "\n",
    "while x < 5:\n",
    "    print(f'the valueof x is: {x}')\n",
    "    \n",
    "    x = x + 1\n",
    "    \n",
    "    "
   ]
  },
  {
   "cell_type": "code",
   "execution_count": null,
   "id": "f148426e",
   "metadata": {},
   "outputs": [],
   "source": [
    "1+1"
   ]
  },
  {
   "cell_type": "code",
   "execution_count": null,
   "id": "c79d9516",
   "metadata": {},
   "outputs": [],
   "source": [
    "word = 'abcde'\n",
    "\n",
    "for index,value in enumerate (word):\n",
    "    print(index)\n",
    "    print(value)\n",
    "        \n",
    "    "
   ]
  },
  {
   "cell_type": "code",
   "execution_count": null,
   "id": "c4733b4f",
   "metadata": {},
   "outputs": [],
   "source": [
    "my_list = [1,2,3]\n",
    "my_list2 = ['a','b','c']\n",
    "my_list3 = [100,200,300]\n",
    "\n",
    "for item in zip(my_list,my_list2,my_list3):\n",
    "    print(item)\n"
   ]
  },
  {
   "cell_type": "code",
   "execution_count": null,
   "id": "893122b5",
   "metadata": {},
   "outputs": [],
   "source": [
    "'o' in ['x', 'y', 'z']"
   ]
  },
  {
   "cell_type": "code",
   "execution_count": null,
   "id": "55780c48",
   "metadata": {},
   "outputs": [],
   "source": [
    "from random import randint\n",
    "##my_list = [1,2,3,4,5,6,7]\n",
    "pass\n",
    "randint(0,100)\n"
   ]
  },
  {
   "cell_type": "code",
   "execution_count": null,
   "id": "c335ded8",
   "metadata": {},
   "outputs": [],
   "source": [
    "result = input('wt is u r name:')"
   ]
  },
  {
   "cell_type": "code",
   "execution_count": null,
   "id": "cc95af8f",
   "metadata": {},
   "outputs": [],
   "source": [
    "result\n"
   ]
  },
  {
   "cell_type": "code",
   "execution_count": null,
   "id": "ed506a5a",
   "metadata": {},
   "outputs": [],
   "source": [
    "type(result)"
   ]
  },
  {
   "cell_type": "code",
   "execution_count": null,
   "id": "50ecc52e",
   "metadata": {},
   "outputs": [],
   "source": [
    "type(result)"
   ]
  },
  {
   "cell_type": "code",
   "execution_count": null,
   "id": "bedaf41d",
   "metadata": {},
   "outputs": [],
   "source": [
    "result = input('wt is u r num:')"
   ]
  },
  {
   "cell_type": "code",
   "execution_count": null,
   "id": "c90fa5ab",
   "metadata": {},
   "outputs": [],
   "source": [
    "result\n"
   ]
  },
  {
   "cell_type": "code",
   "execution_count": null,
   "id": "f639e2c1",
   "metadata": {},
   "outputs": [],
   "source": [
    "float(result)"
   ]
  },
  {
   "cell_type": "code",
   "execution_count": null,
   "id": "d67a3368",
   "metadata": {},
   "outputs": [],
   "source": [
    "mt_list = [1,2,3,4,5]\n",
    "list = []\n",
    "for num in mt_list:\n",
    "        list.append(num)"
   ]
  },
  {
   "cell_type": "code",
   "execution_count": null,
   "id": "4993df75",
   "metadata": {},
   "outputs": [],
   "source": [
    "list\n"
   ]
  },
  {
   "cell_type": "code",
   "execution_count": null,
   "id": "14e05e8b",
   "metadata": {},
   "outputs": [],
   "source": [
    "my_list = [1,2,3,4,5]\n",
    "list = [num*2-1 for num in my_list]\n",
    "    "
   ]
  },
  {
   "cell_type": "code",
   "execution_count": null,
   "id": "d0c9999c",
   "metadata": {},
   "outputs": [],
   "source": [
    "list\n"
   ]
  },
  {
   "cell_type": "code",
   "execution_count": null,
   "id": "b4e5149a",
   "metadata": {},
   "outputs": [],
   "source": [
    "list = [ num if num%2==0 else 'odd' for num in range (0,11) ]"
   ]
  },
  {
   "cell_type": "code",
   "execution_count": null,
   "id": "66e7b19b",
   "metadata": {},
   "outputs": [],
   "source": [
    "list\n"
   ]
  },
  {
   "cell_type": "code",
   "execution_count": null,
   "id": "c7950755",
   "metadata": {},
   "outputs": [],
   "source": [
    "my_list = []\n",
    "for x in [1,2,3]:\n",
    "    for y in [4 ,5,6]:\n",
    "        my_list.append(x*y)"
   ]
  },
  {
   "cell_type": "code",
   "execution_count": null,
   "id": "1842531a",
   "metadata": {},
   "outputs": [],
   "source": [
    "my_list"
   ]
  },
  {
   "cell_type": "code",
   "execution_count": null,
   "id": "e575dd48",
   "metadata": {},
   "outputs": [],
   "source": [
    "st = 'Print only the words that start with s in this sentence'\n",
    "for word in st.split():\n",
    "   if word[0] == 's':\n",
    "        print(word)"
   ]
  },
  {
   "cell_type": "code",
   "execution_count": null,
   "id": "719ac275",
   "metadata": {},
   "outputs": [],
   "source": [
    "list = [num for num in range (0,10) if num%2 == 0]"
   ]
  },
  {
   "cell_type": "code",
   "execution_count": null,
   "id": "c88d0581",
   "metadata": {},
   "outputs": [],
   "source": [
    "list\n"
   ]
  },
  {
   "cell_type": "code",
   "execution_count": null,
   "id": "f043e8f3",
   "metadata": {},
   "outputs": [],
   "source": [
    "list = [range(0,11,2)]"
   ]
  },
  {
   "cell_type": "code",
   "execution_count": null,
   "id": "c7312ad8",
   "metadata": {},
   "outputs": [],
   "source": [
    "list\n"
   ]
  },
  {
   "cell_type": "code",
   "execution_count": null,
   "id": "e08fe2a8",
   "metadata": {},
   "outputs": [],
   "source": [
    "for num in range (0,11,2):\n",
    "    print(num)\n",
    "    \n",
    "    "
   ]
  },
  {
   "cell_type": "code",
   "execution_count": null,
   "id": "b55b71d7",
   "metadata": {},
   "outputs": [],
   "source": [
    "range(0,11,2)"
   ]
  },
  {
   "cell_type": "code",
   "execution_count": null,
   "id": "dcdf0211",
   "metadata": {},
   "outputs": [],
   "source": [
    "list(range(0,11,2))\n",
    "\n"
   ]
  },
  {
   "cell_type": "code",
   "execution_count": null,
   "id": "a9dacc49",
   "metadata": {},
   "outputs": [],
   "source": [
    "st = 'Print every word in this sentence that has an even number of letters'\n",
    "\n",
    "for word  in st.split():\n",
    "    if len(word) %2 ==0:\n",
    "        print(word+  ' is even!')\n",
    "    else:\n",
    "        print(word+ ' is odd')\n",
    "\n"
   ]
  },
  {
   "cell_type": "code",
   "execution_count": null,
   "id": "6098c521",
   "metadata": {},
   "outputs": [],
   "source": [
    "for num in range (1,100):\n",
    "    if num % 3 == 0 and num % 5 == 0:\n",
    "        print('fuzzbuzz')\n",
    "    elif num % 3 == 0:\n",
    "        print('fuzz')\n",
    "    elif num % 5 == 0:\n",
    "        print('buzz)')\n",
    "    else:\n",
    "        print(num)\n",
    "        \n",
    "    "
   ]
  },
  {
   "cell_type": "code",
   "execution_count": null,
   "id": "54a45c35",
   "metadata": {},
   "outputs": [],
   "source": [
    "st = 'Create a list of the first letters of every word in this string'\n",
    "st.split()\n",
    "for word in st.split():\n",
    "    list = print(word[0])\n",
    "    list\n",
    "    "
   ]
  },
  {
   "cell_type": "code",
   "execution_count": null,
   "id": "8d0ca77a",
   "metadata": {},
   "outputs": [],
   "source": [
    "st = 'Create a list of the first letters of every word in this string'\n",
    "st.split()\n",
    "list = [word[0] for word in st.split()]\n"
   ]
  },
  {
   "cell_type": "code",
   "execution_count": null,
   "id": "575520b3",
   "metadata": {},
   "outputs": [],
   "source": [
    "list"
   ]
  },
  {
   "cell_type": "code",
   "execution_count": null,
   "id": "121f330e",
   "metadata": {},
   "outputs": [],
   "source": [
    "def add_num():\n",
    "    print('hello')"
   ]
  },
  {
   "cell_type": "code",
   "execution_count": null,
   "id": "8fcb448a",
   "metadata": {},
   "outputs": [],
   "source": [
    "add_num()"
   ]
  },
  {
   "cell_type": "code",
   "execution_count": null,
   "id": "78dc97fb",
   "metadata": {},
   "outputs": [],
   "source": [
    "def sum_num(num1,num2):\n",
    "    return num1+num2"
   ]
  },
  {
   "cell_type": "code",
   "execution_count": null,
   "id": "c000b96e",
   "metadata": {},
   "outputs": [],
   "source": [
    "result=sum_num(1,2)"
   ]
  },
  {
   "cell_type": "code",
   "execution_count": null,
   "id": "404e1d5e",
   "metadata": {},
   "outputs": [],
   "source": [
    "result"
   ]
  },
  {
   "cell_type": "code",
   "execution_count": null,
   "id": "8d25fabb",
   "metadata": {},
   "outputs": [],
   "source": [
    "def sum_num(num1,num2):\n",
    "    print (num1+num2)"
   ]
  },
  {
   "cell_type": "code",
   "execution_count": null,
   "id": "813556fd",
   "metadata": {},
   "outputs": [],
   "source": [
    "result = sum_num(8,8)"
   ]
  },
  {
   "cell_type": "code",
   "execution_count": null,
   "id": "5e21b9cc",
   "metadata": {},
   "outputs": [],
   "source": [
    "result\n"
   ]
  },
  {
   "cell_type": "code",
   "execution_count": null,
   "id": "65194b8f",
   "metadata": {},
   "outputs": [],
   "source": [
    "type(result)"
   ]
  },
  {
   "cell_type": "code",
   "execution_count": null,
   "id": "682f0ed3",
   "metadata": {},
   "outputs": [],
   "source": [
    "def sum_a(num1,num2):\n",
    "    print (num1+num2)\n",
    "    return(num1+num2)\n",
    "    "
   ]
  },
  {
   "cell_type": "code",
   "execution_count": null,
   "id": "e85aa0aa",
   "metadata": {},
   "outputs": [],
   "source": [
    "result = sum_a(5,4)"
   ]
  },
  {
   "cell_type": "code",
   "execution_count": null,
   "id": "88ff809a",
   "metadata": {},
   "outputs": [],
   "source": [
    "type(result)\n"
   ]
  },
  {
   "cell_type": "code",
   "execution_count": null,
   "id": "f35fbad7",
   "metadata": {},
   "outputs": [],
   "source": [
    "result"
   ]
  },
  {
   "cell_type": "code",
   "execution_count": null,
   "id": "1b5ed7c3",
   "metadata": {},
   "outputs": [],
   "source": [
    "def even_check(num_list):\n",
    "    for num in num_list:\n",
    "        if num % 2 == 0:\n",
    "            return True\n",
    "        else:\n",
    "            pass\n",
    "    return False"
   ]
  },
  {
   "cell_type": "code",
   "execution_count": null,
   "id": "2929625f",
   "metadata": {},
   "outputs": [],
   "source": [
    "even_check([1,3,5,4])"
   ]
  },
  {
   "cell_type": "code",
   "execution_count": null,
   "id": "d8c0c50c",
   "metadata": {},
   "outputs": [],
   "source": [
    "def even_count(num_list):\n",
    "    even_num=[]\n",
    "    for num in num_list:\n",
    "        if num % 2== 0:\n",
    "            even_num.append(num)\n",
    "        else:\n",
    "            even_num.append(0)\n",
    "    return even_num\n",
    "            "
   ]
  },
  {
   "cell_type": "code",
   "execution_count": null,
   "id": "ee192516",
   "metadata": {},
   "outputs": [],
   "source": [
    "even_count([2,3,4,5,6])"
   ]
  },
  {
   "cell_type": "code",
   "execution_count": null,
   "id": "0efd7055",
   "metadata": {},
   "outputs": [],
   "source": [
    "working_hours = ('mouni',200),('Vamsi',500),('balaji',600)\n",
    "def emp_maximum (working_hours):\n",
    "    current_hour = 0 \n",
    "    employee_name = ''\n",
    "    \n",
    "    for employee,hours in working_hours:\n",
    "        if hours > current_hour:\n",
    "            current_hour = hours\n",
    "            employee_name = employee\n",
    "            \n",
    "          \n",
    "        else:\n",
    "            pass\n",
    "        \n",
    "    return current_hour,employee_name   \n",
    "    "
   ]
  },
  {
   "cell_type": "code",
   "execution_count": null,
   "id": "29f26393",
   "metadata": {},
   "outputs": [],
   "source": [
    "hour , emp = emp_maximum(working_hours)\n"
   ]
  },
  {
   "cell_type": "code",
   "execution_count": null,
   "id": "2b0b4681",
   "metadata": {},
   "outputs": [],
   "source": [
    "hour\n",
    "\n"
   ]
  },
  {
   "cell_type": "code",
   "execution_count": null,
   "id": "d4335b95",
   "metadata": {},
   "outputs": [],
   "source": [
    "emp"
   ]
  },
  {
   "cell_type": "code",
   "execution_count": null,
   "id": "7652dc5e",
   "metadata": {},
   "outputs": [],
   "source": [
    "stock_mar = [('micro',500),('fb',800)]\n",
    "def stock_max(stock_mar):\n",
    "    for com,val in stock_mar:\n",
    "        current_val = 0\n",
    "        if val > 200:\n",
    "             current_val=val\n",
    "        else:\n",
    "            pass\n",
    "    return current_val\n",
    "    "
   ]
  },
  {
   "cell_type": "code",
   "execution_count": null,
   "id": "bcbaec9b",
   "metadata": {},
   "outputs": [],
   "source": [
    "stock_max(stock_mar)"
   ]
  },
  {
   "cell_type": "code",
   "execution_count": null,
   "id": "e6f90487",
   "metadata": {},
   "outputs": [],
   "source": [
    "my_list =['' ,'0','']"
   ]
  },
  {
   "cell_type": "code",
   "execution_count": null,
   "id": "4baf6db8",
   "metadata": {},
   "outputs": [],
   "source": [
    "from random import shuffle\n",
    "shuffle(my_list)"
   ]
  },
  {
   "cell_type": "code",
   "execution_count": null,
   "id": "190641aa",
   "metadata": {},
   "outputs": [],
   "source": [
    "my_list"
   ]
  },
  {
   "cell_type": "code",
   "execution_count": null,
   "id": "f31a7a02",
   "metadata": {},
   "outputs": [],
   "source": [
    "def shuffle_list(my_list):\n",
    "    suffle(my_list)\n",
    "    return my_list"
   ]
  },
  {
   "cell_type": "code",
   "execution_count": null,
   "id": "5547569f",
   "metadata": {},
   "outputs": [],
   "source": [
    "def play_guess():\n",
    "    guess = ''\n",
    "    while guess not in ['0','1','2']:\n",
    "        guess = input(\"tell one number in 0,1or 2\")\n",
    "    return int(guess)\n",
    "  \n",
    "\n",
    "\n",
    "            "
   ]
  },
  {
   "cell_type": "code",
   "execution_count": null,
   "id": "12a70a71",
   "metadata": {},
   "outputs": [],
   "source": [
    "play_guess()"
   ]
  },
  {
   "cell_type": "code",
   "execution_count": null,
   "id": "c6a03076",
   "metadata": {},
   "outputs": [],
   "source": [
    "shuffle_list(my_list)"
   ]
  },
  {
   "cell_type": "code",
   "execution_count": null,
   "id": "4a303209",
   "metadata": {},
   "outputs": [],
   "source": [
    "my_list = ['0','1','2']"
   ]
  },
  {
   "cell_type": "code",
   "execution_count": null,
   "id": "cac7c1d0",
   "metadata": {},
   "outputs": [],
   "source": [
    "my_list"
   ]
  },
  {
   "cell_type": "code",
   "execution_count": null,
   "id": "f4a04435",
   "metadata": {},
   "outputs": [],
   "source": [
    "from random import shuffle\n",
    " \n",
    "    "
   ]
  },
  {
   "cell_type": "code",
   "execution_count": null,
   "id": "16047a31",
   "metadata": {},
   "outputs": [],
   "source": [
    "def shuffle_list(my_list):\n",
    "    shuffle(my_list)"
   ]
  },
  {
   "cell_type": "code",
   "execution_count": null,
   "id": "0cf03323",
   "metadata": {},
   "outputs": [],
   "source": [
    "shuffle_list(my_list)"
   ]
  },
  {
   "cell_type": "code",
   "execution_count": null,
   "id": "2aae37b5",
   "metadata": {},
   "outputs": [],
   "source": [
    "example= [1,2,3,4,5]\n",
    "\n",
    "\n"
   ]
  },
  {
   "cell_type": "code",
   "execution_count": null,
   "id": "292f676e",
   "metadata": {},
   "outputs": [],
   "source": [
    "example"
   ]
  },
  {
   "cell_type": "code",
   "execution_count": null,
   "id": "b6bbdb50",
   "metadata": {},
   "outputs": [],
   "source": [
    "from random import shuffle\n",
    "  \n"
   ]
  },
  {
   "cell_type": "markdown",
   "id": "9900b2fc",
   "metadata": {},
   "source": [
    "example"
   ]
  },
  {
   "cell_type": "code",
   "execution_count": null,
   "id": "0398b5af",
   "metadata": {},
   "outputs": [],
   "source": [
    "shuffle(example)"
   ]
  },
  {
   "cell_type": "code",
   "execution_count": null,
   "id": "925cd547",
   "metadata": {},
   "outputs": [],
   "source": [
    "my_list = ['0','','']\n"
   ]
  },
  {
   "cell_type": "code",
   "execution_count": null,
   "id": "37a5dc7b",
   "metadata": {},
   "outputs": [],
   "source": [
    "my_list"
   ]
  },
  {
   "cell_type": "code",
   "execution_count": null,
   "id": "b805c498",
   "metadata": {},
   "outputs": [],
   "source": [
    "def shuffle_list(my_list):\n",
    "    shuffle(my_list)\n",
    "    return (my_list)"
   ]
  },
  {
   "cell_type": "code",
   "execution_count": null,
   "id": "f494b833",
   "metadata": {},
   "outputs": [],
   "source": [
    "my_list"
   ]
  },
  {
   "cell_type": "code",
   "execution_count": null,
   "id": "a6fde9a5",
   "metadata": {},
   "outputs": [],
   "source": [
    "shuffle_list(my_list)"
   ]
  },
  {
   "cell_type": "code",
   "execution_count": null,
   "id": "98edaea7",
   "metadata": {},
   "outputs": [],
   "source": [
    "def play_guess():\n",
    "    guess = ''\n",
    "    while guess not in ['0','1','2']:\n",
    "        guess = input(\"tell one number in 0,1or 2\")\n",
    "    return int(guess)"
   ]
  },
  {
   "cell_type": "code",
   "execution_count": null,
   "id": "c879f604",
   "metadata": {},
   "outputs": [],
   "source": [
    " play_guess()"
   ]
  },
  {
   "cell_type": "code",
   "execution_count": null,
   "id": "0770c7cc",
   "metadata": {},
   "outputs": [],
   "source": [
    "def check_guess(my_list,guess):\n",
    "    if my_list[guess] == '0':\n",
    "        print('correct')\n",
    "    else:\n",
    "        print('not guesscorrect')"
   ]
  },
  {
   "cell_type": "code",
   "execution_count": null,
   "id": "8dda19d9",
   "metadata": {},
   "outputs": [],
   "source": [
    "my_list = ['0','','']\n",
    "mixed_list = shuffle_list(my_list)\n",
    "guess = play_guess() \n",
    "check_guess = (mixed_list,guess)"
   ]
  },
  {
   "cell_type": "code",
   "execution_count": null,
   "id": "2cbdd646",
   "metadata": {},
   "outputs": [],
   "source": [
    "def my_func(a):\n",
    "    if a == True:\n",
    "        return 'inside'\n",
    "    else:\n",
    "    \n",
    "       return 'outside'"
   ]
  },
  {
   "cell_type": "code",
   "execution_count": null,
   "id": "d6149c38",
   "metadata": {},
   "outputs": [],
   "source": [
    "my_func(-1)"
   ]
  },
  {
   "cell_type": "code",
   "execution_count": null,
   "id": "8d4faddd",
   "metadata": {},
   "outputs": [],
   "source": [
    "my_func(True)\n"
   ]
  },
  {
   "cell_type": "code",
   "execution_count": null,
   "id": "dece1a8a",
   "metadata": {},
   "outputs": [],
   "source": [
    "my_func(False)"
   ]
  },
  {
   "cell_type": "code",
   "execution_count": null,
   "id": "d675b0e6",
   "metadata": {},
   "outputs": [],
   "source": [
    "def my_func(x,y,z):\n",
    "    if z == True:\n",
    "           return x\n",
    "    elif z == False:\n",
    "            return y\n",
    "    else:\n",
    "        return z\n",
    "        "
   ]
  },
  {
   "cell_type": "code",
   "execution_count": null,
   "id": "f81d642b",
   "metadata": {},
   "outputs": [],
   "source": [
    "my_func('hello','hi','hiii')"
   ]
  },
  {
   "cell_type": "code",
   "execution_count": null,
   "id": "2e52b8d0",
   "metadata": {},
   "outputs": [],
   "source": [
    "def my_func(a,b):\n",
    "    return a%b"
   ]
  },
  {
   "cell_type": "code",
   "execution_count": null,
   "id": "283c0af7",
   "metadata": {},
   "outputs": [],
   "source": [
    "my_func(4,4)"
   ]
  },
  {
   "cell_type": "code",
   "execution_count": null,
   "id": "7c7a48d5",
   "metadata": {},
   "outputs": [],
   "source": [
    "def is_even(a):\n",
    "    if a % 2 == 0:\n",
    "        return True\n",
    "    else:\n",
    "        return False"
   ]
  },
  {
   "cell_type": "code",
   "execution_count": null,
   "id": "9e081a16",
   "metadata": {},
   "outputs": [],
   "source": [
    "is_even(5)\n"
   ]
  },
  {
   "cell_type": "code",
   "execution_count": null,
   "id": "2c3accf8",
   "metadata": {},
   "outputs": [],
   "source": [
    "def is_greater(a,b):\n",
    "    if a > b :\n",
    "        return True\n",
    "    else:\n",
    "         return False\n"
   ]
  },
  {
   "cell_type": "code",
   "execution_count": null,
   "id": "27e86b06",
   "metadata": {},
   "outputs": [],
   "source": [
    "is_greater(4,9)"
   ]
  },
  {
   "cell_type": "code",
   "execution_count": null,
   "id": "abe3f6b9",
   "metadata": {},
   "outputs": [],
   "source": [
    "is_greater(5,1)"
   ]
  },
  {
   "cell_type": "code",
   "execution_count": null,
   "id": "5fcaa1a1",
   "metadata": {},
   "outputs": [],
   "source": [
    "def my_func(*args):\n",
    "    #return sum(args)\n",
    "    print(len(args))"
   ]
  },
  {
   "cell_type": "code",
   "execution_count": null,
   "id": "2ef36647",
   "metadata": {},
   "outputs": [],
   "source": [
    "my_func(12,13,15,6)"
   ]
  },
  {
   "cell_type": "code",
   "execution_count": null,
   "id": "210917b7",
   "metadata": {},
   "outputs": [],
   "source": [
    "def my_func(*args):\n",
    "    if args % 2 == 0:\n",
    "        return args"
   ]
  },
  {
   "cell_type": "code",
   "execution_count": null,
   "id": "47c98571",
   "metadata": {},
   "outputs": [],
   "source": [
    "my_func(1,2,3)"
   ]
  },
  {
   "cell_type": "code",
   "execution_count": null,
   "id": "ebe69e44",
   "metadata": {},
   "outputs": [],
   "source": [
    "def my_func(string):\n",
    "    for letter in string:\n",
    "        if letter[0] %2 == 0:\n",
    "            return letter.upper()\n",
    "        else:\n",
    "            return letter.lower()"
   ]
  },
  {
   "cell_type": "code",
   "execution_count": null,
   "id": "9f4addf1",
   "metadata": {},
   "outputs": [],
   "source": [
    "my_func('mOUniKahs')"
   ]
  },
  {
   "cell_type": "code",
   "execution_count": null,
   "id": "0eb5c921",
   "metadata": {},
   "outputs": [],
   "source": [
    "def rab_check(num,low,high):\n",
    "    if num in range(low,high+1):\n",
    "        print(f'yes {num} in range of low and high')\n",
    "    else:\n",
    "        print('false')\n"
   ]
  },
  {
   "cell_type": "code",
   "execution_count": null,
   "id": "af19611e",
   "metadata": {},
   "outputs": [],
   "source": [
    "rab_check(10,2,7)\n"
   ]
  },
  {
   "cell_type": "code",
   "execution_count": null,
   "id": "480468e7",
   "metadata": {},
   "outputs": [],
   "source": [
    "def low_str ():\n",
    "    count = 0\n",
    "    count1 = 0\n",
    "    s = 'Mounika Is a*%@ Good Girl'\n",
    "    for char in s:\n",
    "        if char.isupper():\n",
    "            count +=1\n",
    "        elif char.islower():\n",
    "            count1 += 1\n",
    "        else:\n",
    "            pass\n",
    "    print(count)\n",
    "    print(count1)\n",
    "    "
   ]
  },
  {
   "cell_type": "code",
   "execution_count": null,
   "id": "813b40cd",
   "metadata": {},
   "outputs": [],
   "source": [
    "low_str()"
   ]
  },
  {
   "cell_type": "code",
   "execution_count": null,
   "id": "fb035378",
   "metadata": {},
   "outputs": [],
   "source": [
    "def unique_list(lst):\n",
    "    x = []\n",
    "    for num in lst:\n",
    "        if num not in x:\n",
    "            x.append(num)\n",
    "    return x"
   ]
  },
  {
   "cell_type": "code",
   "execution_count": null,
   "id": "24e5cfd8",
   "metadata": {},
   "outputs": [],
   "source": [
    "unique_list([1,1,2,3,4,4,4,5,6,7,7,8,8,8,9])"
   ]
  },
  {
   "cell_type": "code",
   "execution_count": null,
   "id": "d0ca8ac3",
   "metadata": {},
   "outputs": [],
   "source": [
    "def unique_key(lst):\n",
    "    \n",
    "    return list(set(lst))"
   ]
  },
  {
   "cell_type": "code",
   "execution_count": null,
   "id": "adc39f45",
   "metadata": {},
   "outputs": [],
   "source": [
    "unique_key([1,1,2,3,4,4,4,5,6,7,7,8,8,8,9])"
   ]
  },
  {
   "cell_type": "code",
   "execution_count": null,
   "id": "619d2253",
   "metadata": {},
   "outputs": [],
   "source": [
    "set([1,1,2,3])"
   ]
  },
  {
   "cell_type": "code",
   "execution_count": null,
   "id": "3136a283",
   "metadata": {},
   "outputs": [],
   "source": [
    "def mul(lst):\n",
    "    count = 1\n",
    "    for num in lst:\n",
    "        count += count* num\n",
    "    return count\n",
    "        "
   ]
  },
  {
   "cell_type": "code",
   "execution_count": null,
   "id": "663a1e3b",
   "metadata": {},
   "outputs": [],
   "source": [
    "mul([2,-3,-4])"
   ]
  },
  {
   "cell_type": "code",
   "execution_count": null,
   "id": "4a9feb9b",
   "metadata": {},
   "outputs": [],
   "source": [
    "mul([2,-3,-4])"
   ]
  },
  {
   "cell_type": "code",
   "execution_count": null,
   "id": "d808f064",
   "metadata": {},
   "outputs": [],
   "source": [
    "def pali(a):\n",
    "   \n",
    "    a = a.replace(' ', '')\n",
    "    return a == a[::-1]\n",
    "  \n",
    "   \n",
    "   \n",
    "    \n",
    "     \n",
    "    "
   ]
  },
  {
   "cell_type": "code",
   "execution_count": null,
   "id": "fee3b81a",
   "metadata": {},
   "outputs": [],
   "source": [
    "pali('nu rs es r un ')"
   ]
  },
  {
   "cell_type": "code",
   "execution_count": null,
   "id": "7ac3237e",
   "metadata": {},
   "outputs": [],
   "source": [
    "import string\n",
    "def pangrm(str1, alphabet=string.ascii_lowercase):\n",
    "    alphaset = set(alphabet)\n",
    "    str1 = str1.replace(' ', '')\n",
    "    str1 = str1.lower()\n",
    "    str1 = set(str1)\n",
    "  \n",
    "    return alphaset == str1"
   ]
  },
  {
   "cell_type": "code",
   "execution_count": null,
   "id": "586a2cac",
   "metadata": {},
   "outputs": [],
   "source": [
    "pangrm(\"the quick brown fox jumps over lazy dog\")"
   ]
  },
  {
   "cell_type": "code",
   "execution_count": null,
   "id": "e33b3574",
   "metadata": {},
   "outputs": [],
   "source": [
    "n = int(input())\n",
    "for i in range(0,n):\n",
    "    a= i*i\n",
    "    print(a)\n"
   ]
  },
  {
   "cell_type": "code",
   "execution_count": null,
   "id": "eaddd9b3",
   "metadata": {},
   "outputs": [],
   "source": [
    "sqt_root(5)\n"
   ]
  },
  {
   "cell_type": "code",
   "execution_count": 3,
   "id": "3ac9146b",
   "metadata": {},
   "outputs": [],
   "source": [
    "def sub_str(s,s2):\n",
    "    count = 0\n",
    "    for i in range(len(s)):\n",
    "        \n",
    "        if s.startswith(s2,i):\n",
    "                count+=1\n",
    "        else:\n",
    "                pass\n",
    "    return count\n",
    "    \n",
    "        \n",
    "       \n",
    "    "
   ]
  },
  {
   "cell_type": "code",
   "execution_count": 4,
   "id": "52d76a69",
   "metadata": {},
   "outputs": [
    {
     "data": {
      "text/plain": [
       "2"
      ]
     },
     "execution_count": 4,
     "metadata": {},
     "output_type": "execute_result"
    }
   ],
   "source": [
    "sub_str('abcdcdc','cdc')"
   ]
  },
  {
   "cell_type": "code",
   "execution_count": null,
   "id": "a5445e5f",
   "metadata": {},
   "outputs": [],
   "source": []
  }
 ],
 "metadata": {
  "kernelspec": {
   "display_name": "Python 3",
   "language": "python",
   "name": "python3"
  },
  "language_info": {
   "codemirror_mode": {
    "name": "ipython",
    "version": 3
   },
   "file_extension": ".py",
   "mimetype": "text/x-python",
   "name": "python",
   "nbconvert_exporter": "python",
   "pygments_lexer": "ipython3",
   "version": "3.8.8"
  }
 },
 "nbformat": 4,
 "nbformat_minor": 5
}
